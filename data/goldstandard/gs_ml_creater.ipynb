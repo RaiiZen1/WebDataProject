{
 "cells": [
  {
   "cell_type": "code",
   "execution_count": null,
   "metadata": {},
   "outputs": [],
   "source": [
    "import csv\n",
    "from sklearn.model_selection import train_test_split\n",
    "import pandas as pd"
   ]
  },
  {
   "cell_type": "code",
   "execution_count": 13,
   "metadata": {},
   "outputs": [],
   "source": [
    "df = pd.read_csv('gs_goodreads_covers.csv')\n",
    "df = df[['goodreads_id', 'covers_id', 'is_match']]\n",
    "\n",
    "df.to_csv('gs_goodreads_covers.csv', index=False, header=None)\n",
    "\n",
    "# Split the data into features (X) and labels (y)\n",
    "X = df[['goodreads_id', 'covers_id']]\n",
    "y = df['is_match']\n",
    "\n",
    "# Split the data into training and test sets with stratification\n",
    "X_train, X_test, y_train, y_test = train_test_split(X, y, test_size=0.2, stratify=y, random_state=42)\n",
    "\n",
    "# Combine features and labels for training set\n",
    "train_data = pd.concat([X_train, y_train], axis=1)\n",
    "\n",
    "# Combine features and labels for test set\n",
    "test_data = pd.concat([X_test, y_test], axis=1)\n",
    "\n",
    "# Save combined data and labels to CSV files\n",
    "train_data.to_csv(\"training/\" + 'gs_goodreads_covers' + \"_training.csv\", index=False, header=None)\n",
    "test_data.to_csv(\"test/\" + 'gs_goodreads_covers' + \"_test.csv\", index=False, header=None)"
   ]
  },
  {
   "cell_type": "code",
   "execution_count": 14,
   "metadata": {},
   "outputs": [],
   "source": [
    "df = pd.read_csv('gs_amazon_goodreads.csv')\n",
    "df = df[['amazon_id', 'goodreads_id', 'is_match']]\n",
    "\n",
    "df.to_csv('gs_amazon_goodreads.csv', index=False, header=None)\n",
    "\n",
    "# Split the data into features (X) and labels (y)\n",
    "X = df[['amazon_id', 'goodreads_id']]\n",
    "y = df['is_match']\n",
    "\n",
    "# Split the data into training and test sets with stratification\n",
    "X_train, X_test, y_train, y_test = train_test_split(X, y, test_size=0.2, stratify=y, random_state=42)\n",
    "\n",
    "# Combine features and labels for training set\n",
    "train_data = pd.concat([X_train, y_train], axis=1)\n",
    "\n",
    "# Combine features and labels for test set\n",
    "test_data = pd.concat([X_test, y_test], axis=1)\n",
    "\n",
    "# Save combined data and labels to CSV files\n",
    "train_data.to_csv(\"training/\" + 'gs_amazon_goodreads' + \"_training.csv\", index=False, header=None)\n",
    "test_data.to_csv(\"test/\" + 'gs_amazon_goodreads' + \"_test.csv\", index=False, header=None)"
   ]
  }
 ],
 "metadata": {
  "kernelspec": {
   "display_name": "Python 3",
   "language": "python",
   "name": "python3"
  },
  "language_info": {
   "codemirror_mode": {
    "name": "ipython",
    "version": 3
   },
   "file_extension": ".py",
   "mimetype": "text/x-python",
   "name": "python",
   "nbconvert_exporter": "python",
   "pygments_lexer": "ipython3",
   "version": "3.11.2"
  }
 },
 "nbformat": 4,
 "nbformat_minor": 2
}
