{
 "cells": [
  {
   "cell_type": "code",
   "execution_count": 5,
   "metadata": {},
   "outputs": [],
   "source": [
    "import csv\n",
    "from sklearn.model_selection import train_test_split\n",
    "\n",
    "datasets = [\"gs_goodreads_covers\", \"gs_amazon_covers\", \"gs_amazon_goodreads\"]\n",
    "\n",
    "for ds in datasets:\n",
    "    # Read the CSV data\n",
    "    with open(ds + \".csv\", \"r\") as gs:\n",
    "        reader = csv.reader(gs)\n",
    "        data = list(reader)\n",
    "\n",
    "    # Extract labels (TRUE or FALSE) from each row in the dataset\n",
    "    labels = [row[-1] for row in data]\n",
    "\n",
    "    # Split the data into training and testing sets, maintaining the ratio of true and false values\n",
    "    train_data, test_data, train_labels, test_labels = train_test_split(\n",
    "        data, labels, test_size=0.2, random_state=42, stratify=labels\n",
    "    )\n",
    "\n",
    "    # Save the training and testing sets to separate CSV files\n",
    "    with open(\"training/\" + ds + \"_training3.csv\", \"w\", newline=\"\") as output:\n",
    "        writer = csv.writer(output)\n",
    "        writer.writerows(train_data)\n",
    "\n",
    "    with open(\"test/\" + ds + \"_test3.csv\", \"w\", newline=\"\") as output:\n",
    "        writer = csv.writer(output)\n",
    "        writer.writerows(test_data)"
   ]
  }
 ],
 "metadata": {
  "kernelspec": {
   "display_name": "Python 3",
   "language": "python",
   "name": "python3"
  },
  "language_info": {
   "codemirror_mode": {
    "name": "ipython",
    "version": 3
   },
   "file_extension": ".py",
   "mimetype": "text/x-python",
   "name": "python",
   "nbconvert_exporter": "python",
   "pygments_lexer": "ipython3",
   "version": "3.11.2"
  }
 },
 "nbformat": 4,
 "nbformat_minor": 2
}
