{
 "cells": [
  {
   "cell_type": "code",
   "execution_count": 1,
   "metadata": {},
   "outputs": [],
   "source": [
    "import csv\n",
    "from sklearn.model_selection import train_test_split\n",
    "import pandas as pd"
   ]
  },
  {
   "cell_type": "code",
   "execution_count": 11,
   "metadata": {},
   "outputs": [],
   "source": [
    "df = pd.read_csv('gs_covers_goodreads_new.csv')\n",
    "df = df[['goodreads_id', 'covers_id', 'is_match', 'similarity_score']]\n",
    "\n",
    "df.to_csv('gs_goodreads_covers_new.csv', index=False, header=None)\n",
    "\n",
    "# Split the data into features (X) and labels (y)\n",
    "X = df[['goodreads_id', 'covers_id', 'similarity_score']]\n",
    "y = df[['is_match', 'similarity_score']]\n",
    "\n",
    "# Split the data into training and test sets with stratification\n",
    "X_train, X_test, y_train, y_test = train_test_split(X, y, test_size=0.3, stratify=y['is_match'], random_state=42)\n",
    "\n",
    "# Combine features and labels for training set\n",
    "train_data = pd.concat([X_train[['goodreads_id', 'covers_id']], y_train['is_match']], axis=1)\n",
    "\n",
    "# Kombiniere Features und Labels für das Testset\n",
    "test_data = pd.concat([X_test[['goodreads_id', 'covers_id']], y_test['is_match']], axis=1)\n",
    "\n",
    "# Save combined data and labels to CSV files\n",
    "train_data.to_csv(\"training/\" + 'gs_goodreads_covers' + \"_training_new.csv\", index=False, header=None)\n",
    "test_data.to_csv(\"test/\" + 'gs_goodreads_covers' + \"_test_new.csv\", index=False, header=None)"
   ]
  },
  {
   "cell_type": "code",
   "execution_count": 8,
   "metadata": {},
   "outputs": [],
   "source": [
    "df = pd.read_csv('gs_goodreads_amazon_new.csv')\n",
    "df = df[['amazon_id', 'goodreads_id', 'is_match', 'similarity_score']]\n",
    "\n",
    "df.to_csv('gs_amazon_goodreads_new.csv', index=False, header=None)\n",
    "\n",
    "# Split the data into features (X) and labels (y)\n",
    "X = df[['amazon_id', 'goodreads_id', 'similarity_score']]\n",
    "y = df[['is_match', 'similarity_score']]\n",
    "\n",
    "# Split the data into training and test sets with stratification\n",
    "X_train, X_test, y_train, y_test = train_test_split(X, y, test_size=0.3, stratify=y['is_match'], random_state=42)\n",
    "\n",
    "# Combine features and labels for training set\n",
    "train_data = pd.concat([X_train[['amazon_id', 'goodreads_id']], y_train['is_match']], axis=1)\n",
    "\n",
    "# Kombiniere Features und Labels für das Testset\n",
    "test_data = pd.concat([X_test[['amazon_id', 'goodreads_id']], y_test['is_match']], axis=1)\n",
    "\n",
    "# Save combined data and labels to CSV files\n",
    "train_data.to_csv(\"training/\" + 'gs_amazon_goodreads' + \"_training_new.csv\", index=False, header=None)\n",
    "test_data.to_csv(\"test/\" + 'gs_amazon_goodreads' + \"_test_new.csv\", index=False, header=None)"
   ]
  },
  {
   "cell_type": "code",
   "execution_count": 10,
   "metadata": {},
   "outputs": [],
   "source": [
    "df = pd.read_csv('gs_covers_amazon_new.csv')\n",
    "df = df[['amazon_id', 'covers_id', 'is_match', 'similarity_score']]\n",
    "\n",
    "df.to_csv('gs_amazon_covers_new.csv', index=False, header=None)\n",
    "\n",
    "# Split the data into features (X) and labels (y)\n",
    "X = df[['amazon_id', 'covers_id', 'similarity_score']]\n",
    "y = df[['is_match', 'similarity_score']]\n",
    "\n",
    "# Split the data into training and test sets with stratification\n",
    "X_train, X_test, y_train, y_test = train_test_split(X, y, test_size=0.3, stratify=y['is_match'], random_state=42)\n",
    "\n",
    "# Combine features and labels for training set\n",
    "train_data = pd.concat([X_train[['amazon_id', 'covers_id']], y_train['is_match']], axis=1)\n",
    "\n",
    "# Kombiniere Features und Labels für das Testset\n",
    "test_data = pd.concat([X_test[['amazon_id', 'covers_id']], y_test['is_match']], axis=1)\n",
    "\n",
    "# Save combined data and labels to CSV files\n",
    "train_data.to_csv(\"training/\" + 'gs_amazon_covers' + \"_training_new.csv\", index=False, header=None)\n",
    "test_data.to_csv(\"test/\" + 'gs_amazon_covers' + \"_test_new.csv\", index=False, header=None)"
   ]
  }
 ],
 "metadata": {
  "kernelspec": {
   "display_name": "Python 3",
   "language": "python",
   "name": "python3"
  },
  "language_info": {
   "codemirror_mode": {
    "name": "ipython",
    "version": 3
   },
   "file_extension": ".py",
   "mimetype": "text/x-python",
   "name": "python",
   "nbconvert_exporter": "python",
   "pygments_lexer": "ipython3",
   "version": "3.11.2"
  }
 },
 "nbformat": 4,
 "nbformat_minor": 2
}
