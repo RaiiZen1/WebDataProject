{
 "cells": [
  {
   "cell_type": "code",
   "execution_count": 3,
   "metadata": {},
   "outputs": [],
   "source": [
    "import csv\n",
    "from sklearn.model_selection import train_test_split\n",
    "\n",
    "# Read the CSV data\n",
    "with open('gs_goodreads_covers.csv', 'r') as gs:\n",
    "    reader = csv.reader(gs)\n",
    "    data = list(reader)\n",
    "\n",
    "# Extract labels (TRUE or FALSE) from each row in the dataset\n",
    "labels = [row[-1] for row in data]\n",
    "\n",
    "# Split the data into training and testing sets, maintaining the ratio of true and false values\n",
    "train_data, test_data, train_labels, test_labels = train_test_split(data, labels, test_size=0.2, random_state=42, stratify=labels)\n",
    "\n",
    "# Save the training and testing sets to separate CSV files\n",
    "with open('gs_goodreads_covers_training.csv', 'w', newline='') as output:\n",
    "    writer = csv.writer(output)\n",
    "    writer.writerows(train_data)\n",
    "\n",
    "with open('gs_goodreads_covers_test.csv', 'w', newline='') as output:\n",
    "    writer = csv.writer(output)\n",
    "    writer.writerows(test_data)"
   ]
  }
 ],
 "metadata": {
  "kernelspec": {
   "display_name": "Python 3",
   "language": "python",
   "name": "python3"
  },
  "language_info": {
   "codemirror_mode": {
    "name": "ipython",
    "version": 3
   },
   "file_extension": ".py",
   "mimetype": "text/x-python",
   "name": "python",
   "nbconvert_exporter": "python",
   "pygments_lexer": "ipython3",
   "version": "3.11.2"
  }
 },
 "nbformat": 4,
 "nbformat_minor": 2
}
