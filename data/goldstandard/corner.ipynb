{
 "cells": [
  {
   "cell_type": "code",
   "execution_count": 15,
   "metadata": {},
   "outputs": [
    {
     "name": "stdout",
     "output_type": "stream",
     "text": [
      "[('amazon', <Element 'book' at 0x00000265A5741A30>), ('amazon', <Element 'book' at 0x00000265AA630D10>), ('amazon', <Element 'book' at 0x00000265AA63CA40>), ('amazon', <Element 'book' at 0x00000265AA64DEE0>), ('amazon', <Element 'book' at 0x00000265AF5BA480>), ('amazon', <Element 'book' at 0x00000265A89D1670>), ('amazon', <Element 'book' at 0x00000265B4BFF9C0>), ('amazon', <Element 'book' at 0x00000265B4BDC0E0>), ('amazon', <Element 'book' at 0x00000265B4B9D260>), ('amazon', <Element 'book' at 0x00000265B4B8E570>), ('amazon', <Element 'book' at 0x00000265ABC77600>), ('amazon', <Element 'book' at 0x00000265ABD69C10>), ('amazon', <Element 'book' at 0x00000265A90ADF80>), ('amazon', <Element 'book' at 0x00000265A90B3650>), ('amazon', <Element 'book' at 0x00000265A90F3DD0>), ('amazon', <Element 'book' at 0x00000265A9098FE0>), ('amazon', <Element 'book' at 0x00000265A909A250>), ('amazon', <Element 'book' at 0x00000265A91446D0>), ('amazon', <Element 'book' at 0x00000265A9079670>), ('amazon', <Element 'book' at 0x00000265A907B2E0>), ('amazon', <Element 'book' at 0x00000265A9132C00>), ('amazon', <Element 'book' at 0x00000265A91143B0>), ('amazon', <Element 'book' at 0x00000265A9116070>), ('amazon', <Element 'book' at 0x00000265A914E980>), ('amazon', <Element 'book' at 0x00000265A914ECF0>), ('amazon', <Element 'book' at 0x00000265A914F060>), ('amazon', <Element 'book' at 0x00000265A90D9BC0>), ('amazon', <Element 'book' at 0x00000265A90DA2F0>), ('amazon', <Element 'book' at 0x00000265A910C3B0>), ('amazon', <Element 'book' at 0x00000265A910F330>), ('amazon', <Element 'book' at 0x00000265B662F740>), ('amazon', <Element 'book' at 0x00000265B661A1B0>), ('amazon', <Element 'book' at 0x00000265B6578F90>), ('amazon', <Element 'book' at 0x00000265B65722F0>), ('amazon', <Element 'book' at 0x00000265AF242B60>), ('amazon', <Element 'book' at 0x00000265AF248BD0>), ('amazon', <Element 'book' at 0x00000265AF1D2610>), ('amazon', <Element 'book' at 0x00000265AF22E890>), ('amazon', <Element 'book' at 0x00000265AF232250>), ('amazon', <Element 'book' at 0x00000265AB475FD0>), ('amazon', <Element 'book' at 0x00000265AB476A70>), ('amazon', <Element 'book' at 0x00000265AB47B060>), ('amazon', <Element 'book' at 0x00000265AB497DD0>), ('amazon', <Element 'book' at 0x00000265AB4AF240>), ('amazon', <Element 'book' at 0x00000265AB4E8FE0>), ('amazon', <Element 'book' at 0x00000265AB4EACA0>), ('amazon', <Element 'book' at 0x00000265AA7C6570>), ('amazon', <Element 'book' at 0x00000265AF0D7010>), ('amazon', <Element 'book' at 0x00000265AD1705E0>), ('amazon', <Element 'book' at 0x00000265AD1754E0>), ('amazon', <Element 'book' at 0x00000265B5DD16C0>), ('amazon', <Element 'book' at 0x00000265B5DB52B0>), ('amazon', <Element 'book' at 0x00000265B5DB6160>), ('amazon', <Element 'book' at 0x00000265B5D77BF0>), ('amazon', <Element 'book' at 0x00000265B530AE30>), ('amazon', <Element 'book' at 0x00000265B52EEA20>), ('amazon', <Element 'book' at 0x00000265B5282E30>), ('amazon', <Element 'book' at 0x00000265B6FF0720>), ('amazon', <Element 'book' at 0x00000265B6C78180>), ('amazon', <Element 'book' at 0x00000265AC7C2CF0>), ('amazon', <Element 'book' at 0x00000265AC7A8AE0>), ('amazon', <Element 'book' at 0x00000265AC79C540>), ('amazon', <Element 'book' at 0x00000265AC79D350>), ('amazon', <Element 'book' at 0x00000265AA682FC0>), ('amazon', <Element 'book' at 0x00000265B8092E80>), ('amazon', <Element 'book' at 0x00000265B807AE30>), ('amazon', <Element 'book' at 0x00000265B807B600>), ('amazon', <Element 'book' at 0x00000265B1162250>), ('amazon', <Element 'book' at 0x00000265B10FCF90>), ('amazon', <Element 'book' at 0x00000265B10C2F20>), ('amazon', <Element 'book' at 0x00000265B10EBAB0>), ('amazon', <Element 'book' at 0x00000265AF5240E0>), ('amazon', <Element 'book' at 0x00000265AF474EA0>), ('amazon', <Element 'book' at 0x00000265B690E750>), ('amazon', <Element 'book' at 0x00000265B68824D0>), ('amazon', <Element 'book' at 0x00000265A99BCEA0>), ('amazon', <Element 'book' at 0x00000265A9A30720>), ('amazon', <Element 'book' at 0x00000265A8B02B10>), ('amazon', <Element 'book' at 0x00000265A8B02F20>), ('amazon', <Element 'book' at 0x00000265AC8BBE70>), ('amazon', <Element 'book' at 0x00000265AC8A25C0>), ('amazon', <Element 'book' at 0x00000265B69FD990>), ('amazon', <Element 'book' at 0x00000265B70AEF70>), ('amazon', <Element 'book' at 0x00000265B70A8EA0>), ('amazon', <Element 'book' at 0x00000265B7090900>), ('amazon', <Element 'book' at 0x00000265B707F010>), ('amazon', <Element 'book' at 0x00000265AB44DD00>), ('amazon', <Element 'book' at 0x00000265AB40C5E0>), ('amazon', <Element 'book' at 0x00000265AB434720>), ('amazon', <Element 'book' at 0x00000265AB3D8A40>), ('amazon', <Element 'book' at 0x00000265AB3C2200>), ('amazon', <Element 'book' at 0x00000265A8D72BB0>), ('amazon', <Element 'book' at 0x00000265A8DAD0D0>), ('amazon', <Element 'book' at 0x00000265A8DADCB0>), ('amazon', <Element 'book' at 0x00000265A9969800>), ('amazon', <Element 'book' at 0x00000265AA94C590>), ('amazon', <Element 'book' at 0x00000265AAB84E50>)]\n"
     ]
    }
   ],
   "source": [
    "import csv\n",
    "import xml.etree.ElementTree as ET\n",
    "\n",
    "def extrahiere_harry_potter_eintraege(xml_datei, plattform):\n",
    "    tree = ET.parse(xml_datei)\n",
    "    root = tree.getroot()\n",
    "\n",
    "    harry_potter_eintraege = []\n",
    "\n",
    "    for eintrag in root.iter():\n",
    "        title = eintrag.find(\"title\")\n",
    "        if title is not None and \"Harry Potter\" in title.text:\n",
    "            harry_potter_eintraege.append((plattform, eintrag))\n",
    "\n",
    "    return harry_potter_eintraege\n",
    "\n",
    "# Pfade zu den XML-Dateien\n",
    "amazon_pfad = \"../input/Amazon.xml\"\n",
    "goodreads_pfad = \"../input/Goodreads.xml\"\n",
    "\n",
    "# Extrahiere Harry Potter Einträge für Amazon und Goodreads\n",
    "amazon_eintraege = extrahiere_harry_potter_eintraege(amazon_pfad, \"amazon\")\n",
    "goodreads_eintraege = extrahiere_harry_potter_eintraege(goodreads_pfad, \"goodreads\")\n",
    "\n",
    "alle_eintraege = amazon_eintraege + goodreads_eintraege\n",
    "\n",
    "print(amazon_eintraege)\n",
    "\n",
    "# CSV-Datei schreiben\n",
    "csv_datei_path = \"harry_potter_eintraege.csv\"\n",
    "\n",
    "with open(csv_datei_path, mode=\"w\", newline=\"\", encoding=\"utf-8\") as csv_datei:\n",
    "    csv_writer = csv.writer(csv_datei)\n",
    "\n",
    "    for amazon_eintrag, goodreads_eintrag in zip(amazon_eintraege, goodreads_eintraege):\n",
    "        _, amazon_eintrag_data = amazon_eintrag\n",
    "        _, goodreads_eintrag_data = goodreads_eintrag\n",
    "\n",
    "        csv_writer.writerow([f\"{amazon_eintrag_data.find('id').text}\", f\"{goodreads_eintrag_data.find('id').text}\"])\n"
   ]
  }
 ],
 "metadata": {
  "kernelspec": {
   "display_name": "Python 3",
   "language": "python",
   "name": "python3"
  },
  "language_info": {
   "codemirror_mode": {
    "name": "ipython",
    "version": 3
   },
   "file_extension": ".py",
   "mimetype": "text/x-python",
   "name": "python",
   "nbconvert_exporter": "python",
   "pygments_lexer": "ipython3",
   "version": "3.11.2"
  }
 },
 "nbformat": 4,
 "nbformat_minor": 2
}
